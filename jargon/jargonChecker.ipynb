{
 "cells": [
  {
   "cell_type": "code",
   "execution_count": 42,
   "metadata": {},
   "outputs": [
    {
     "name": "stdout",
     "output_type": "stream",
     "text": [
      "True\n",
      "False\n"
     ]
    }
   ],
   "source": [
    "#https://pythonhosted.org/pyenchant/\n",
    "\n",
    "#import pyEnchant\n",
    "import enchant\n",
    "\n",
    "#initialise to US English dictionary\n",
    "d = enchant.Dict(\"en_US\")\n",
    "\n",
    "#example values\n",
    "print (d.check(\"Hello\"))\n",
    "print (d.check(\"Heyaa\"))"
   ]
  },
  {
   "cell_type": "code",
   "execution_count": 43,
   "metadata": {},
   "outputs": [
    {
     "name": "stdout",
     "output_type": "stream",
     "text": [
      "['Habitat', 'is', 'a', 'massively', 'multiplayer', 'online', 'role-playing', 'game', 'for', 'the', 'Commodore', '64', 'on', 'top', 'of', 'the', 'QuantumLink', 'online', 'platform.']\n"
     ]
    }
   ],
   "source": [
    "#read text file and split it into lines and then words\n",
    "with open('sampleDocument.txt', 'r') as f:\n",
    "    data = f.readlines()\n",
    "    for line in data:\n",
    "        words = line.split()\n",
    "print (words)"
   ]
  },
  {
   "cell_type": "code",
   "execution_count": 44,
   "metadata": {},
   "outputs": [
    {
     "name": "stdout",
     "output_type": "stream",
     "text": [
      "['multiplayer', 'online', 'QuantumLink', 'online']\n"
     ]
    }
   ],
   "source": [
    "#if word is not in the dictionary, add it to list of jargons\n",
    "jargon=[]\n",
    "\n",
    "for each in words:\n",
    "    if(d.check(each)!=True):\n",
    "        jargon.append(each)\n",
    "        \n",
    "print (jargon)"
   ]
  },
  {
   "cell_type": "code",
   "execution_count": null,
   "metadata": {
    "collapsed": true
   },
   "outputs": [],
   "source": []
  }
 ],
 "metadata": {
  "kernelspec": {
   "display_name": "Python 3",
   "language": "python",
   "name": "python3"
  },
  "language_info": {
   "codemirror_mode": {
    "name": "ipython",
    "version": 3
   },
   "file_extension": ".py",
   "mimetype": "text/x-python",
   "name": "python",
   "nbconvert_exporter": "python",
   "pygments_lexer": "ipython3",
   "version": "3.6.3"
  }
 },
 "nbformat": 4,
 "nbformat_minor": 2
}
